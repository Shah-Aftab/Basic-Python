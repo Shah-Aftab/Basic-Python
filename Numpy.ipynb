{
 "cells": [
  {
   "cell_type": "code",
   "execution_count": 6,
   "id": "6e06cfea-9fd3-44bb-a543-d95637f2b9c6",
   "metadata": {},
   "outputs": [
    {
     "name": "stdout",
     "output_type": "stream",
     "text": [
      "[[ 1.   2.   3.   4.   5.   6.   7.   7.6  8.   9. ]\n",
      " [54.  23.  34.  54.  56.   0.   0.   0.   0.   0. ]]\n"
     ]
    }
   ],
   "source": [
    "import numpy as np\n",
    "arr=np.array([[1,2,3,4,5,6,7,7.6,8,9],[54,23,34,54,56,0,0,0,0,0]])\n",
    "print(arr)\n"
   ]
  },
  {
   "cell_type": "code",
   "execution_count": 4,
   "id": "d4b8274c-775f-4cbd-92ee-55f7f93f604f",
   "metadata": {},
   "outputs": [
    {
     "name": "stdout",
     "output_type": "stream",
     "text": [
      "[[ 1.   2.   3.   4.   5.   6.   7.   7.6  8.   9. ]\n",
      " [54.  23.  34.  54.  56.   0.   0.   0.   0.   0. ]]\n"
     ]
    }
   ],
   "source": [
    "import numpy as np\n",
    "\n",
    "arr = np.array([\n",
    "    [1, 2, 3, 4, 5, 6, 7, 7.6, 8, 9],\n",
    "    [54, 23, 34, 54, 56, 0, 0, 0, 0, 0]  # দুই লিস্টের দৈর্ঘ্য একই রাখা ভালো\n",
    "])\n",
    "print(arr)\n"
   ]
  },
  {
   "cell_type": "code",
   "execution_count": null,
   "id": "7bbae5c8-36ff-4b4b-947d-d3f7cbcc4bf2",
   "metadata": {},
   "outputs": [],
   "source": [
    "zeros=an.zeros((2,3))"
   ]
  },
  {
   "cell_type": "code",
   "execution_count": 7,
   "id": "4641890a-326a-488c-befb-b3c440c37fcd",
   "metadata": {},
   "outputs": [
    {
     "name": "stdout",
     "output_type": "stream",
     "text": [
      "Zeros:\n",
      " [[0. 0. 0.]\n",
      " [0. 0. 0.]]\n",
      "Ones:\n",
      " [[1. 1. 1.]\n",
      " [1. 1. 1.]]\n",
      "Identity:\n",
      " [[1. 0. 0.]\n",
      " [0. 1. 0.]\n",
      " [0. 0. 1.]]\n",
      "Range:\n",
      " [0 2 4 6 8]\n",
      "Linspace:\n",
      " [0.   0.25 0.5  0.75 1.  ]\n"
     ]
    }
   ],
   "source": [
    "# Zero matrix\n",
    "zeros = np.zeros((2,3))\n",
    "print(\"Zeros:\\n\", zeros)\n",
    "\n",
    "# Ones matrix\n",
    "ones = np.ones((2,3))\n",
    "print(\"Ones:\\n\", ones)\n",
    "\n",
    "# Identity matrix\n",
    "identity = np.eye(3)\n",
    "print(\"Identity:\\n\", identity)\n",
    "\n",
    "# Range\n",
    "range_arr = np.arange(0,10,2)\n",
    "print(\"Range:\\n\", range_arr)\n",
    "\n",
    "# Linspace\n",
    "linspace_arr = np.linspace(0,1,5)\n",
    "print(\"Linspace:\\n\", linspace_arr)\n"
   ]
  },
  {
   "cell_type": "code",
   "execution_count": 8,
   "id": "8df47bd5-9d3e-426b-9a5f-3dd6664d7900",
   "metadata": {},
   "outputs": [],
   "source": [
    "zeros=np.zeros((3,3))"
   ]
  },
  {
   "cell_type": "code",
   "execution_count": 18,
   "id": "d4875bb3-57d1-4dea-b10a-c290c5211b4c",
   "metadata": {},
   "outputs": [],
   "source": [
    "ones=np.ones((2,3))"
   ]
  },
  {
   "cell_type": "code",
   "execution_count": 19,
   "id": "e0e9cef9-34cf-4293-92d8-f0cc3e272506",
   "metadata": {},
   "outputs": [],
   "source": [
    "identity = np.eye(3)"
   ]
  },
  {
   "cell_type": "code",
   "execution_count": 24,
   "id": "9bdbd28c-b5de-413b-a759-d9992961f792",
   "metadata": {},
   "outputs": [
    {
     "name": "stdout",
     "output_type": "stream",
     "text": [
      "\n",
      " [[0. 0. 0.]\n",
      " [0. 0. 0.]\n",
      " [0. 0. 0.]] \n",
      " [[1. 1. 1.]\n",
      " [1. 1. 1.]] \n",
      " [[1. 0. 0.]\n",
      " [0. 1. 0.]\n",
      " [0. 0. 1.]] \n",
      "\n"
     ]
    }
   ],
   "source": [
    "print(\"\\n\",zeros,\"\\n\",ones,\"\\n\",identity,\"\\n\")"
   ]
  },
  {
   "cell_type": "code",
   "execution_count": 28,
   "id": "1f0f6f7c-7cca-4f4f-804b-c54e54868a0a",
   "metadata": {},
   "outputs": [],
   "source": [
    "range_arr=np.arange(0,10,2)"
   ]
  },
  {
   "cell_type": "code",
   "execution_count": 29,
   "id": "c7abb79b-e819-4705-91ef-a54fadfc3994",
   "metadata": {},
   "outputs": [
    {
     "name": "stdout",
     "output_type": "stream",
     "text": [
      "[0 2 4 6 8]\n"
     ]
    }
   ],
   "source": [
    "print(range_arr)"
   ]
  },
  {
   "cell_type": "code",
   "execution_count": 31,
   "id": "d706cd03-486c-491c-9aca-a360f9949689",
   "metadata": {},
   "outputs": [],
   "source": [
    "linespace=np.linspace(0,1,5)"
   ]
  },
  {
   "cell_type": "code",
   "execution_count": 32,
   "id": "91fee780-103b-4ed9-bbc2-970eac9ada7f",
   "metadata": {},
   "outputs": [
    {
     "name": "stdout",
     "output_type": "stream",
     "text": [
      "[0.   0.25 0.5  0.75 1.  ]\n"
     ]
    }
   ],
   "source": [
    "print(linespace)"
   ]
  },
  {
   "cell_type": "code",
   "execution_count": 33,
   "id": "b9a9fc69-dde2-421f-aa7e-1b8db01e12c3",
   "metadata": {},
   "outputs": [
    {
     "name": "stdout",
     "output_type": "stream",
     "text": [
      "shape: (2, 10)\n"
     ]
    }
   ],
   "source": [
    "print(\"shape:\",arr.shape)"
   ]
  },
  {
   "cell_type": "code",
   "execution_count": 35,
   "id": "17643198-3c8f-4706-a7f7-2132dc4bb375",
   "metadata": {},
   "outputs": [
    {
     "name": "stdout",
     "output_type": "stream",
     "text": [
      "size 20\n"
     ]
    }
   ],
   "source": [
    "print(\"size\",arr.size)"
   ]
  },
  {
   "cell_type": "code",
   "execution_count": 36,
   "id": "297e95c6-2b5d-4da0-9174-53af15831849",
   "metadata": {},
   "outputs": [
    {
     "name": "stdout",
     "output_type": "stream",
     "text": [
      "float64\n"
     ]
    }
   ],
   "source": [
    "print(arr.dtype)"
   ]
  },
  {
   "cell_type": "code",
   "execution_count": 37,
   "id": "ecd44c1c-781a-4638-893a-c4100d9a6338",
   "metadata": {},
   "outputs": [
    {
     "name": "stdout",
     "output_type": "stream",
     "text": [
      "2\n"
     ]
    }
   ],
   "source": [
    "print(arr.ndim)"
   ]
  },
  {
   "cell_type": "code",
   "execution_count": 42,
   "id": "8c03faaa-d6a2-46f1-a9e5-b4727df71203",
   "metadata": {},
   "outputs": [],
   "source": [
    "a=np.array([1,3,5,6])\n",
    "b=np.array([5,6,7,8])"
   ]
  },
  {
   "cell_type": "code",
   "execution_count": 43,
   "id": "4cab4bff-3f00-43fa-b1c0-c95f27111e25",
   "metadata": {},
   "outputs": [
    {
     "data": {
      "text/plain": [
       "array([ 6,  9, 12, 14])"
      ]
     },
     "execution_count": 43,
     "metadata": {},
     "output_type": "execute_result"
    }
   ],
   "source": [
    "a+b"
   ]
  },
  {
   "cell_type": "code",
   "execution_count": 44,
   "id": "591908c2-995b-4bd2-ba90-b32ddb7b5541",
   "metadata": {},
   "outputs": [
    {
     "data": {
      "text/plain": [
       "array([-4, -3, -2, -2])"
      ]
     },
     "execution_count": 44,
     "metadata": {},
     "output_type": "execute_result"
    }
   ],
   "source": [
    "a-b"
   ]
  },
  {
   "cell_type": "code",
   "execution_count": 45,
   "id": "c02be358-1255-4ffc-a0e6-613525f616b9",
   "metadata": {},
   "outputs": [
    {
     "data": {
      "text/plain": [
       "array([ 5, 18, 35, 48])"
      ]
     },
     "execution_count": 45,
     "metadata": {},
     "output_type": "execute_result"
    }
   ],
   "source": [
    "a*b"
   ]
  },
  {
   "cell_type": "code",
   "execution_count": 46,
   "id": "2c3094d8-d538-4e58-9836-62233bcfd470",
   "metadata": {},
   "outputs": [
    {
     "data": {
      "text/plain": [
       "array([0.2       , 0.5       , 0.71428571, 0.75      ])"
      ]
     },
     "execution_count": 46,
     "metadata": {},
     "output_type": "execute_result"
    }
   ],
   "source": [
    "a/b"
   ]
  },
  {
   "cell_type": "code",
   "execution_count": 48,
   "id": "1b80a193-e0e3-4458-bced-2031314f8ebb",
   "metadata": {},
   "outputs": [
    {
     "data": {
      "text/plain": [
       "array([ 1,  9, 25, 36])"
      ]
     },
     "execution_count": 48,
     "metadata": {},
     "output_type": "execute_result"
    }
   ],
   "source": [
    "a**2"
   ]
  },
  {
   "cell_type": "code",
   "execution_count": 52,
   "id": "51d11e1a-afe4-4fb0-840a-61de819e0db9",
   "metadata": {},
   "outputs": [
    {
     "data": {
      "text/plain": [
       "array([[1.        , 1.41421356, 1.73205081, 2.        , 2.23606798,\n",
       "        2.44948974, 2.64575131, 2.75680975, 2.82842712, 3.        ],\n",
       "       [7.34846923, 4.79583152, 5.83095189, 7.34846923, 7.48331477,\n",
       "        0.        , 0.        , 0.        , 0.        , 0.        ]])"
      ]
     },
     "execution_count": 52,
     "metadata": {},
     "output_type": "execute_result"
    }
   ],
   "source": [
    "np.sqrt(arr)"
   ]
  },
  {
   "cell_type": "code",
   "execution_count": 53,
   "id": "fdd9e047-e751-4919-a627-9ca4e4f3ac49",
   "metadata": {},
   "outputs": [
    {
     "data": {
      "text/plain": [
       "array([[2.71828183e+00, 7.38905610e+00, 2.00855369e+01, 5.45981500e+01,\n",
       "        1.48413159e+02, 4.03428793e+02, 1.09663316e+03, 1.99819590e+03,\n",
       "        2.98095799e+03, 8.10308393e+03],\n",
       "       [2.83075330e+23, 9.74480345e+09, 5.83461743e+14, 2.83075330e+23,\n",
       "        2.09165950e+24, 1.00000000e+00, 1.00000000e+00, 1.00000000e+00,\n",
       "        1.00000000e+00, 1.00000000e+00]])"
      ]
     },
     "execution_count": 53,
     "metadata": {},
     "output_type": "execute_result"
    }
   ],
   "source": [
    "np.exp(arr)"
   ]
  },
  {
   "cell_type": "code",
   "execution_count": 54,
   "id": "432b3557-4236-440d-8bb9-518238ac90ec",
   "metadata": {},
   "outputs": [
    {
     "data": {
      "text/plain": [
       "array([[ 0.84147098,  0.90929743,  0.14112001, -0.7568025 , -0.95892427,\n",
       "        -0.2794155 ,  0.6569866 ,  0.96791967,  0.98935825,  0.41211849],\n",
       "       [-0.55878905, -0.8462204 ,  0.52908269, -0.55878905, -0.521551  ,\n",
       "         0.        ,  0.        ,  0.        ,  0.        ,  0.        ]])"
      ]
     },
     "execution_count": 54,
     "metadata": {},
     "output_type": "execute_result"
    }
   ],
   "source": [
    "np.sin(arr)"
   ]
  },
  {
   "cell_type": "code",
   "execution_count": 55,
   "id": "c0787783-cbc7-49f3-9dde-335b4a92ec1c",
   "metadata": {},
   "outputs": [
    {
     "name": "stdout",
     "output_type": "stream",
     "text": [
      "[1.  2.  3.  4.  5.  6.  7.  7.6 8.  9. ]\n"
     ]
    }
   ],
   "source": [
    "print(arr[0])"
   ]
  },
  {
   "cell_type": "code",
   "execution_count": 62,
   "id": "2737012b-efc1-4513-864e-2e18f38a254b",
   "metadata": {},
   "outputs": [
    {
     "name": "stdout",
     "output_type": "stream",
     "text": [
      "[[1.  2.  3.  4.  5.  6.  7.  7.6 8.  9. ]]\n"
     ]
    }
   ],
   "source": [
    "print(arr[0:1])"
   ]
  },
  {
   "cell_type": "code",
   "execution_count": 69,
   "id": "bcc3c4ad-1e13-44ba-aff7-5b253ffc0405",
   "metadata": {},
   "outputs": [
    {
     "name": "stdout",
     "output_type": "stream",
     "text": [
      "Sum: 15\n",
      "Mean: 3.0\n",
      "Max: 5\n",
      "Min: 1\n",
      "Standard Deviation: 1.4142135623730951\n"
     ]
    }
   ],
   "source": []
  },
  {
   "cell_type": "code",
   "execution_count": 71,
   "id": "7c329ebe-7b96-48e1-9278-2e1bb36c3089",
   "metadata": {},
   "outputs": [
    {
     "name": "stdout",
     "output_type": "stream",
     "text": [
      "66\n"
     ]
    }
   ],
   "source": [
    "arr=([15,16,17,18])\n",
    "print(np.sum(arr))"
   ]
  },
  {
   "cell_type": "code",
   "execution_count": 72,
   "id": "638b7637-5087-4df9-b262-f25b7dfe5422",
   "metadata": {},
   "outputs": [
    {
     "name": "stdout",
     "output_type": "stream",
     "text": [
      "18\n"
     ]
    }
   ],
   "source": [
    "print(np.max(arr))"
   ]
  },
  {
   "cell_type": "code",
   "execution_count": 73,
   "id": "1502415f-21f2-425b-a85d-9785899b3e98",
   "metadata": {},
   "outputs": [],
   "source": [
    "maxx=np.max(arr)"
   ]
  },
  {
   "cell_type": "code",
   "execution_count": 75,
   "id": "0d0c52a4-ec36-47b7-9a47-15fe21ae1c95",
   "metadata": {},
   "outputs": [
    {
     "name": "stdout",
     "output_type": "stream",
     "text": [
      "18\n"
     ]
    }
   ],
   "source": [
    "print(maxx)"
   ]
  },
  {
   "cell_type": "code",
   "execution_count": 76,
   "id": "a6b8b8c6-9c6b-4f34-a797-f03d0b8688bf",
   "metadata": {},
   "outputs": [
    {
     "name": "stdout",
     "output_type": "stream",
     "text": [
      "15\n"
     ]
    }
   ],
   "source": [
    "print(np.min(arr))"
   ]
  },
  {
   "cell_type": "code",
   "execution_count": 78,
   "id": "d5772dc8-5279-4994-8c0a-54d906ccddcb",
   "metadata": {},
   "outputs": [
    {
     "name": "stdout",
     "output_type": "stream",
     "text": [
      "16.5\n"
     ]
    }
   ],
   "source": [
    "print(np.mean(arr))"
   ]
  },
  {
   "cell_type": "code",
   "execution_count": 79,
   "id": "5ed5e0b2-c911-4625-9177-0b13e07225ab",
   "metadata": {},
   "outputs": [
    {
     "name": "stdout",
     "output_type": "stream",
     "text": [
      "1.118033988749895\n"
     ]
    }
   ],
   "source": [
    "print(np.std(arr))"
   ]
  },
  {
   "cell_type": "code",
   "execution_count": 89,
   "id": "aa96906e-7c43-475b-b50f-09356989dce9",
   "metadata": {},
   "outputs": [
    {
     "data": {
      "text/plain": [
       "array([[0.62685026, 0.60505595, 0.08108683],\n",
       "       [0.93289214, 0.6472649 , 0.45851621],\n",
       "       [0.12053882, 0.63910855, 0.82489314]])"
      ]
     },
     "execution_count": 89,
     "metadata": {},
     "output_type": "execute_result"
    }
   ],
   "source": [
    "np.random.rand(3,3)"
   ]
  },
  {
   "cell_type": "code",
   "execution_count": null,
   "id": "1b1fdab6-17e3-48c0-b78b-bf17b757529c",
   "metadata": {},
   "outputs": [],
   "source": []
  },
  {
   "cell_type": "code",
   "execution_count": null,
   "id": "1cf76160-6f40-4ac9-b905-e21d2c7271ab",
   "metadata": {},
   "outputs": [],
   "source": []
  }
 ],
 "metadata": {
  "kernelspec": {
   "display_name": "Python [conda env:base] *",
   "language": "python",
   "name": "conda-base-py"
  },
  "language_info": {
   "codemirror_mode": {
    "name": "ipython",
    "version": 3
   },
   "file_extension": ".py",
   "mimetype": "text/x-python",
   "name": "python",
   "nbconvert_exporter": "python",
   "pygments_lexer": "ipython3",
   "version": "3.13.5"
  }
 },
 "nbformat": 4,
 "nbformat_minor": 5
}
