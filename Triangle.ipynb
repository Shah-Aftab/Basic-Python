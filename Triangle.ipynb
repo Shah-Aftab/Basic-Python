{
 "cells": [
  {
   "cell_type": "code",
   "execution_count": 101,
   "id": "39c55766-45cb-43b1-a074-a36dd9d70789",
   "metadata": {},
   "outputs": [
    {
     "name": "stdin",
     "output_type": "stream",
     "text": [
      " 12\n"
     ]
    },
    {
     "name": "stdout",
     "output_type": "stream",
     "text": [
      "           *\n",
      "          * *\n",
      "         *   *\n",
      "        *     *\n",
      "       *       *\n",
      "      *         *\n",
      "     *           *\n",
      "    *             *\n",
      "   *               *\n",
      "  *                 *\n",
      " *                   *\n",
      "* * * * * * * * * * * *\n"
     ]
    }
   ],
   "source": [
    "row=int(input())\n",
    "for i in range(1,row+1):\n",
    "    print (\" \"*(row-i),end=\"\") \n",
    "    print(\"*\",end=\"\")\n",
    "    if (i==1):pass \n",
    "    elif i==row:\n",
    "        for j in range(1,i): \n",
    "            print(\" *\", end=\"\")\n",
    "    else:\n",
    "        print(\" \" * (2 * (i - 1) - 1) + \"*\", end=\"\")\n",
    "\n",
    "    print()\n",
    "    "
   ]
  },
  {
   "cell_type": "code",
   "execution_count": null,
   "id": "7c44cd5f-8b89-4201-b832-f9fe583fc63e",
   "metadata": {},
   "outputs": [],
   "source": []
  },
  {
   "cell_type": "code",
   "execution_count": 14,
   "id": "c92350f0-161d-40e5-bc3c-57434fe00765",
   "metadata": {},
   "outputs": [
    {
     "name": "stdout",
     "output_type": "stream",
     "text": [
      "    * \n",
      "   * * \n",
      "  * * * \n",
      " * * * * \n",
      "* * * * * \n"
     ]
    }
   ],
   "source": [
    "rows = 5\n",
    "\n",
    "for i in range(1, rows + 1):\n",
    "    # print spaces\n",
    "    print(\" \" * (rows - i), end=\"\")\n",
    "    # print stars\n",
    "    print(\"* \" * i)\n"
   ]
  },
  {
   "cell_type": "code",
   "execution_count": 91,
   "id": "4fc312b6-8ddf-436d-80da-1a32ec2d4dde",
   "metadata": {},
   "outputs": [
    {
     "name": "stdin",
     "output_type": "stream",
     "text": [
      "Enter number of rows:  6\n"
     ]
    },
    {
     "name": "stdout",
     "output_type": "stream",
     "text": [
      "     *\n",
      "    * *\n",
      "   *   *\n",
      "  *     *\n",
      " *       *\n",
      "* * * * * *\n"
     ]
    }
   ],
   "source": [
    "row = int(input(\"Enter number of rows: \"))\n",
    "\n",
    "for i in range(1, row + 1):\n",
    "    # print leading spaces\n",
    "    print(\" \" * (row - i), end=\"\") \n",
    "\n",
    "    # first star always\n",
    "    print(\"*\", end=\"\")\n",
    "\n",
    "    if i == 1:\n",
    "        # top row → only one star\n",
    "        pass\n",
    "    elif i == row:\n",
    "        # last row → all stars\n",
    "        for j in range(1, i):\n",
    "            print(\" *\", end=\"\")\n",
    "    else:\n",
    "        # middle rows → spaces + last star\n",
    "        print(\" \" * (2 * (i - 1) - 1) + \"*\", end=\"\")\n",
    "\n",
    "    print()  # new line\n"
   ]
  },
  {
   "cell_type": "code",
   "execution_count": null,
   "id": "9af35f6a-9169-4048-ac92-8144acedcf87",
   "metadata": {},
   "outputs": [],
   "source": []
  }
 ],
 "metadata": {
  "kernelspec": {
   "display_name": "Python [conda env:base] *",
   "language": "python",
   "name": "conda-base-py"
  },
  "language_info": {
   "codemirror_mode": {
    "name": "ipython",
    "version": 3
   },
   "file_extension": ".py",
   "mimetype": "text/x-python",
   "name": "python",
   "nbconvert_exporter": "python",
   "pygments_lexer": "ipython3",
   "version": "3.13.5"
  }
 },
 "nbformat": 4,
 "nbformat_minor": 5
}
