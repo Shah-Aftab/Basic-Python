{
 "cells": [
  {
   "cell_type": "code",
   "execution_count": null,
   "id": "444468a4-9989-4732-ae39-e7b345f65b94",
   "metadata": {},
   "outputs": [],
   "source": [
    "# Print area"
   ]
  },
  {
   "cell_type": "code",
   "execution_count": 5,
   "id": "0f75fbf1-7f63-4fca-9ca2-ec86f1bbee28",
   "metadata": {},
   "outputs": [
    {
     "name": "stdin",
     "output_type": "stream",
     "text": [
      "Enter the value of l: 3\n",
      "Enter the value of b: 3\n"
     ]
    },
    {
     "name": "stdout",
     "output_type": "stream",
     "text": [
      "9\n"
     ]
    }
   ],
   "source": [
    "l=int(input('Enter the value of l:'))\n",
    "b=int(input('Enter the value of b:'))\n",
    "area =l*b\n",
    "print(area)\n"
   ]
  },
  {
   "cell_type": "code",
   "execution_count": null,
   "id": "f1c152a3-404a-4b69-840d-76e6c8b15b83",
   "metadata": {},
   "outputs": [],
   "source": [
    "# Square or not"
   ]
  },
  {
   "cell_type": "code",
   "execution_count": 13,
   "id": "e9c92162-bdff-4d15-abc3-f57705c87852",
   "metadata": {},
   "outputs": [
    {
     "name": "stdout",
     "output_type": "stream",
     "text": [
      "Square\n"
     ]
    }
   ],
   "source": [
    "if l==b:\n",
    "    print('Square')"
   ]
  },
  {
   "cell_type": "code",
   "execution_count": 16,
   "id": "69f9e1c7-deaa-42b6-a331-8149a49b48f6",
   "metadata": {},
   "outputs": [
    {
     "name": "stdout",
     "output_type": "stream",
     "text": [
      " square\n"
     ]
    }
   ],
   "source": [
    "if l!=b:\n",
    "    print ('not square')\n",
    "else: \n",
    "    print (' square')"
   ]
  },
  {
   "cell_type": "code",
   "execution_count": null,
   "id": "cbbded18-ab7a-48c3-9059-bf38b1bbec12",
   "metadata": {},
   "outputs": [],
   "source": [
    "# Print learge Number "
   ]
  },
  {
   "cell_type": "code",
   "execution_count": 24,
   "id": "1b9fea97-8903-48c8-9b76-2cfdb3e774f8",
   "metadata": {},
   "outputs": [
    {
     "name": "stdin",
     "output_type": "stream",
     "text": [
      "enter value of a: 12\n",
      "enter value of a: 34\n",
      "enter value of b: 23\n"
     ]
    },
    {
     "name": "stdout",
     "output_type": "stream",
     "text": [
      "b is a leargest number\n"
     ]
    }
   ],
   "source": [
    "a=int(input('enter value of a:'))\n",
    "b=int(input('enter value of a:'))\n",
    "c=int(input('enter value of b:'))\n",
    "if a>b and a>c:\n",
    "    print ('a is a leargest number')\n",
    "elif b>c and b>a:\n",
    "    print ('b is a leargest number')\n",
    "else: print ('c is a leargest number')"
   ]
  },
  {
   "cell_type": "code",
   "execution_count": 29,
   "id": "d056ad23-8968-4a03-8887-9f0952101786",
   "metadata": {},
   "outputs": [
    {
     "name": "stdin",
     "output_type": "stream",
     "text": [
      "Enter Attendes: 70\n"
     ]
    },
    {
     "name": "stdout",
     "output_type": "stream",
     "text": [
      "You are allowed for exam\n"
     ]
    }
   ],
   "source": [
    "course_hr=90\n",
    "attds=int(input(\"Enter Attendes:\"))\n",
    "if (attds*100)/course_hr>=75:\n",
    "    print('You are allowed for exam')\n",
    "else: print('you are not allowed for exam')\n",
    "    \n",
    "\n"
   ]
  },
  {
   "cell_type": "code",
   "execution_count": 43,
   "id": "01ca9667-4c65-425f-96b4-3b7de565a6a0",
   "metadata": {},
   "outputs": [
    {
     "name": "stdin",
     "output_type": "stream",
     "text": [
      "enter your Score: 25\n"
     ]
    },
    {
     "name": "stdout",
     "output_type": "stream",
     "text": [
      "E\n"
     ]
    }
   ],
   "source": [
    "marks=int(input('enter your Score:'))\n",
    "if marks>=90:\n",
    "    print ('A+')\n",
    "elif marks>=80:\n",
    "  print (\"A\")\n",
    "elif marks>=60:\n",
    "  print ('B')\n",
    "elif marks >=50:\n",
    "  print ('C')\n",
    "elif marks >=45:\n",
    "  print ('D')\n",
    "elif marks>=25:\n",
    "  print ('E')\n",
    "else: print('F')"
   ]
  },
  {
   "cell_type": "code",
   "execution_count": 63,
   "id": "4e969f0b-e5ac-437e-a644-271255d1f67e",
   "metadata": {},
   "outputs": [
    {
     "name": "stdout",
     "output_type": "stream",
     "text": [
      "['Shah', 'Md', 'Aftab', 'Uddin']\n",
      "['Shah', 'Md', 'Aftab', 'Uddin']\n",
      "['Shah', 'Md', 'Aftab', 'Uddin']\n",
      "['Shah', 'Md', 'Aftab', 'Uddin']\n"
     ]
    }
   ],
   "source": [
    "name=\"Shah Md Aftab Uddin\"\n",
    "name=name.split()\n",
    "for x in range(1,len(name)+1,1):\n",
    "    print(name)"
   ]
  },
  {
   "cell_type": "code",
   "execution_count": 84,
   "id": "ba7bbfc5-2733-449f-8d03-cd369db64717",
   "metadata": {},
   "outputs": [
    {
     "name": "stdout",
     "output_type": "stream",
     "text": [
      "1 +\n",
      "3 +\n",
      "5 +\n",
      "7 +\n",
      "9 +\n",
      "11 +\n",
      "13 +\n",
      "15 +\n",
      "17 +\n",
      "19 +\n",
      "21 +\n",
      "23 +\n",
      "25 +\n",
      "27 +\n",
      "29 +\n",
      "31 +\n",
      "33 +\n",
      "35 +\n",
      "37 +\n",
      "39 +\n",
      "41 +\n",
      "43 +\n",
      "45 +\n",
      "47 +\n",
      "49 +\n",
      "51 +\n",
      "53 +\n",
      "55 +\n",
      "57 +\n",
      "59 +\n",
      "61 +\n",
      "63 +\n",
      "65 +\n",
      "67 +\n",
      "69 +\n",
      "71 +\n",
      "73 +\n",
      "75 +\n",
      "77 +\n",
      "79 +\n",
      "81 +\n",
      "83 +\n",
      "85 +\n",
      "87 +\n",
      "89 +\n",
      "91 +\n",
      "93 +\n",
      "95 +\n",
      "97 +\n",
      "99 +\n",
      "101 +\n"
     ]
    }
   ],
   "source": [
    "sum=0\n",
    "for i in range(1,102,2):\n",
    "    sum=sum+i\n",
    "    print (\"{} +\".format(i))"
   ]
  },
  {
   "cell_type": "code",
   "execution_count": 2,
   "id": "be0ec122-dc37-4c3f-ab1c-59fc2c297d47",
   "metadata": {},
   "outputs": [],
   "source": [
    "## Print -10 to -100"
   ]
  },
  {
   "cell_type": "code",
   "execution_count": 92,
   "id": "3e5f036f-5cec-4054-8047-f3bef5158b42",
   "metadata": {},
   "outputs": [
    {
     "name": "stdout",
     "output_type": "stream",
     "text": [
      "-100\n",
      "-99\n",
      "-98\n",
      "-97\n",
      "-96\n",
      "-95\n",
      "-94\n",
      "-93\n",
      "-92\n",
      "-91\n",
      "-90\n",
      "-89\n",
      "-88\n",
      "-87\n",
      "-86\n",
      "-85\n",
      "-84\n",
      "-83\n",
      "-82\n",
      "-81\n",
      "-80\n",
      "-79\n",
      "-78\n",
      "-77\n",
      "-76\n",
      "-75\n",
      "-74\n",
      "-73\n",
      "-72\n",
      "-71\n",
      "-70\n",
      "-69\n",
      "-68\n",
      "-67\n",
      "-66\n",
      "-65\n",
      "-64\n",
      "-63\n",
      "-62\n",
      "-61\n",
      "-60\n",
      "-59\n",
      "-58\n",
      "-57\n",
      "-56\n",
      "-55\n",
      "-54\n",
      "-53\n",
      "-52\n",
      "-51\n",
      "-50\n",
      "-49\n",
      "-48\n",
      "-47\n",
      "-46\n",
      "-45\n",
      "-44\n",
      "-43\n",
      "-42\n",
      "-41\n",
      "-40\n",
      "-39\n",
      "-38\n",
      "-37\n",
      "-36\n",
      "-35\n",
      "-34\n",
      "-33\n",
      "-32\n",
      "-31\n",
      "-30\n",
      "-29\n",
      "-28\n",
      "-27\n",
      "-26\n",
      "-25\n",
      "-24\n",
      "-23\n",
      "-22\n",
      "-21\n",
      "-20\n",
      "-19\n",
      "-18\n",
      "-17\n",
      "-16\n",
      "-15\n",
      "-14\n",
      "-13\n",
      "-12\n",
      "-11\n",
      "-10\n"
     ]
    }
   ],
   "source": [
    "\n",
    "for i in range(-100,-9,1):\n",
    "    print(i)"
   ]
  },
  {
   "cell_type": "code",
   "execution_count": 1,
   "id": "e607e20a-f8fd-4a9d-880a-e34d5f94aaec",
   "metadata": {},
   "outputs": [],
   "source": [
    "##Print Prime Number "
   ]
  },
  {
   "cell_type": "code",
   "execution_count": 128,
   "id": "37160c3a-cdfb-4d32-af8a-99bf33f166cf",
   "metadata": {},
   "outputs": [
    {
     "name": "stdout",
     "output_type": "stream",
     "text": [
      "11\n",
      "13\n",
      "17\n",
      "19\n",
      "23\n",
      "29\n",
      "31\n",
      "37\n",
      "41\n",
      "43\n",
      "47\n",
      "53\n",
      "59\n",
      "61\n",
      "67\n",
      "71\n",
      "73\n",
      "79\n",
      "83\n",
      "89\n",
      "97\n",
      "101\n",
      "103\n",
      "107\n",
      "109\n",
      "113\n",
      "127\n",
      "131\n",
      "137\n",
      "139\n",
      "149\n",
      "151\n",
      "157\n",
      "163\n",
      "167\n",
      "173\n",
      "179\n",
      "181\n",
      "191\n",
      "193\n",
      "197\n",
      "199\n",
      "211\n",
      "223\n",
      "227\n",
      "229\n",
      "233\n",
      "239\n",
      "241\n",
      "251\n",
      "257\n",
      "263\n",
      "269\n",
      "271\n",
      "277\n",
      "281\n",
      "283\n",
      "293\n",
      "307\n",
      "311\n",
      "313\n",
      "317\n",
      "331\n",
      "337\n",
      "347\n",
      "349\n",
      "353\n",
      "359\n",
      "367\n",
      "373\n",
      "379\n",
      "383\n",
      "389\n",
      "397\n",
      "401\n",
      "409\n",
      "419\n",
      "421\n",
      "431\n",
      "433\n",
      "439\n",
      "443\n",
      "449\n",
      "457\n",
      "461\n",
      "463\n",
      "467\n",
      "479\n",
      "487\n",
      "491\n",
      "499\n",
      "503\n",
      "509\n",
      "521\n",
      "523\n",
      "541\n",
      "547\n",
      "557\n",
      "563\n",
      "569\n",
      "571\n",
      "577\n",
      "587\n",
      "593\n",
      "599\n",
      "601\n",
      "607\n",
      "613\n",
      "617\n",
      "619\n",
      "631\n",
      "641\n",
      "643\n",
      "647\n",
      "653\n",
      "659\n",
      "661\n",
      "673\n",
      "677\n",
      "683\n",
      "691\n",
      "701\n",
      "709\n",
      "719\n",
      "727\n",
      "733\n",
      "739\n",
      "743\n",
      "751\n",
      "757\n",
      "761\n",
      "769\n",
      "773\n",
      "787\n",
      "797\n",
      "809\n",
      "811\n",
      "821\n",
      "823\n",
      "827\n",
      "829\n",
      "839\n",
      "853\n",
      "857\n",
      "859\n",
      "863\n",
      "877\n",
      "881\n",
      "883\n",
      "887\n",
      "907\n",
      "911\n",
      "919\n",
      "929\n",
      "937\n",
      "941\n",
      "947\n",
      "953\n",
      "967\n",
      "971\n",
      "977\n",
      "983\n",
      "991\n",
      "997\n"
     ]
    }
   ],
   "source": [
    "for i in range(10,1001):\n",
    "    prime =True\n",
    "    for j in range(2,int(i**0.5)+1):\n",
    "       if i%j==0:\n",
    "           prime=False\n",
    "           break\n",
    "    if prime==True:\n",
    "        print (i)\n",
    "    "
   ]
  },
  {
   "cell_type": "code",
   "execution_count": 156,
   "id": "2f0c17c9-ce83-4f33-b3f1-12e9e642d75e",
   "metadata": {},
   "outputs": [
    {
     "name": "stdin",
     "output_type": "stream",
     "text": [
      "Enter your Number : 8\n"
     ]
    },
    {
     "name": "stdout",
     "output_type": "stream",
     "text": [
      "40320\n"
     ]
    }
   ],
   "source": [
    "    n=int(input('Enter your Number :'))\n",
    "    fac=1\n",
    "    for i in range(1,n+1):\n",
    "        fac=fac*i\n",
    "    print(fac)\n"
   ]
  },
  {
   "cell_type": "markdown",
   "id": "fa346dd8-5381-4df1-822c-896f5c70cba7",
   "metadata": {},
   "source": [
    "Reverse a integer number\n"
   ]
  },
  {
   "cell_type": "code",
   "execution_count": 2,
   "id": "6b3af413-d36c-43a1-8cd9-736c72fe1caf",
   "metadata": {},
   "outputs": [
    {
     "name": "stdin",
     "output_type": "stream",
     "text": [
      "Enter Your Number 12345\n"
     ]
    },
    {
     "name": "stdout",
     "output_type": "stream",
     "text": [
      "54321\n"
     ]
    }
   ],
   "source": [
    "num=int(input('Enter Your Number'))\n",
    "rev=0\n",
    "while num > 0:\n",
    "    digit=num%10\n",
    "    rev=rev*10+digit\n",
    "    num=num//10\n",
    "print (rev)\n",
    "    \n",
    "    \n"
   ]
  },
  {
   "cell_type": "markdown",
   "id": "87e51fea-d812-425d-91b7-598547e7aa9f",
   "metadata": {},
   "source": [
    "using while loop\n"
   ]
  },
  {
   "cell_type": "code",
   "execution_count": 2,
   "id": "ec24e081-1924-4293-97fb-ff5b506fffa6",
   "metadata": {},
   "outputs": [
    {
     "name": "stdin",
     "output_type": "stream",
     "text": [
      " 13454\n"
     ]
    },
    {
     "name": "stdout",
     "output_type": "stream",
     "text": [
      "45431\n"
     ]
    }
   ],
   "source": [
    "n=int(input())\n",
    "rev=0\n",
    "while n >0:\n",
    "    digit=n%10\n",
    "    rev=rev*10+digit\n",
    "    n=n//10\n",
    "print (rev)"
   ]
  },
  {
   "cell_type": "code",
   "execution_count": 194,
   "id": "6007fa3a-b500-45c8-b41b-13a1a2764930",
   "metadata": {},
   "outputs": [],
   "source": [
    "\n",
    "    "
   ]
  },
  {
   "cell_type": "code",
   "execution_count": null,
   "id": "f8ebf07c-cb9a-4630-991e-6478df275dca",
   "metadata": {},
   "outputs": [],
   "source": []
  }
 ],
 "metadata": {
  "kernelspec": {
   "display_name": "Python 3 (ipykernel)",
   "language": "python",
   "name": "python3"
  },
  "language_info": {
   "codemirror_mode": {
    "name": "ipython",
    "version": 3
   },
   "file_extension": ".py",
   "mimetype": "text/x-python",
   "name": "python",
   "nbconvert_exporter": "python",
   "pygments_lexer": "ipython3",
   "version": "3.12.11"
  }
 },
 "nbformat": 4,
 "nbformat_minor": 5
}
